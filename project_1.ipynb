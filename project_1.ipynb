{
 "cells": [
  {
   "cell_type": "markdown",
   "metadata": {},
   "source": [
    "# Project 1  \n",
    "### The Moonshadow Elves  \n",
    "* Hongmei Zeng  \n",
    "* Noah Stettler  \n",
    "* Patrick Harrington  \n",
    "* Yacub Bholat  \n",
    "  \n",
    "Due: 13 January 2020  "
   ]
  },
  {
   "cell_type": "code",
   "execution_count": 1,
   "metadata": {},
   "outputs": [],
   "source": [
    "import os\n",
    "import numpy as np\n",
    "import pandas as pd\n",
    "import matplotlib.pyplot as plt\n",
    "import matplotlib\n",
    "import requests"
   ]
  },
  {
   "cell_type": "markdown",
   "metadata": {},
   "source": [
    "# HONGMEI CODE"
   ]
  },
  {
   "cell_type": "code",
   "execution_count": null,
   "metadata": {
    "scrolled": true
   },
   "outputs": [],
   "source": [
    "path = os.path.join('Data', 'SeriesReport-20200112162716_5da8f4.csv')\n",
    "df = pd.read_csv(path)\n",
    "df.head(20)"
   ]
  },
  {
   "cell_type": "code",
   "execution_count": null,
   "metadata": {},
   "outputs": [],
   "source": [
    "df['Unnamed: 1'][2]"
   ]
  },
  {
   "cell_type": "code",
   "execution_count": null,
   "metadata": {},
   "outputs": [],
   "source": [
    "cleaned_df = df.drop([0,1,2,3,4,5,6,7,8,9])\n",
    "cleaned_df.head()"
   ]
  },
  {
   "cell_type": "code",
   "execution_count": null,
   "metadata": {
    "scrolled": true
   },
   "outputs": [],
   "source": [
    "names = {'Local Area Unemployment Statistics': 'Year',\n",
    "         'Unnamed: 1': 'Month',\n",
    "         'Unnamed: 2': 'Labor Force',\n",
    "         'Unnamed: 3': 'Employment',\n",
    "         'Unnamed: 4': 'Unemployment',\n",
    "         'Unnamed: 5': 'Unemployment Rate %' }\n",
    "cleaned_df = cleaned_df.rename(columns=names)\n",
    "cleaned_df = cleaned_df.reset_index(drop=True)\n",
    "cleaned_df.tail(10)"
   ]
  },
  {
   "cell_type": "code",
   "execution_count": null,
   "metadata": {},
   "outputs": [],
   "source": [
    "cleaned_df['Labor Force'] = cleaned_df['Labor Force'].astype('int')\n",
    "cleaned_df['Employment'] = cleaned_df['Employment'].astype('int')\n",
    "cleaned_df['Unemployment'] = cleaned_df['Unemployment'].astype('int')\n",
    "cleaned_df['Unemployment Rate %'] = cleaned_df['Unemployment Rate %'].astype('float')"
   ]
  },
  {
   "cell_type": "code",
   "execution_count": null,
   "metadata": {},
   "outputs": [],
   "source": [
    "cleaned_df['Employment Rate %'] = ((cleaned_df['Employment'] / cleaned_df['Labor Force']) * 100).round(1) \n",
    "cleaned_df.head(10)"
   ]
  },
  {
   "cell_type": "code",
   "execution_count": null,
   "metadata": {},
   "outputs": [],
   "source": [
    "new_df = cleaned_df[['Year','Month','Labor Force','Employment','Employment Rate %','Unemployment','Unemployment Rate %']]\n",
    "new_df.head(20)"
   ]
  },
  {
   "cell_type": "code",
   "execution_count": null,
   "metadata": {
    "scrolled": true
   },
   "outputs": [],
   "source": [
    "# Delete the Data of the year 2019\n",
    "new_df = new_df[new_df.Year != '2019']\n",
    "new_df"
   ]
  },
  {
   "cell_type": "code",
   "execution_count": null,
   "metadata": {},
   "outputs": [],
   "source": [
    "yearly_df = new_df[new_df.Month=='Annual'].drop(columns=['Month'])\n",
    "yearly_df.set_index(['Year'], inplace = True)\n",
    "yearly_df"
   ]
  },
  {
   "cell_type": "code",
   "execution_count": null,
   "metadata": {},
   "outputs": [],
   "source": [
    "x = yearly_df.index\n",
    "y = yearly_df[\"Employment\"]\n",
    "plt.plot(x, y,color='blue', marker='o', linewidth=2, markersize=8)\n",
    "\n",
    "plt.xlabel('Year')\n",
    "plt.ylabel('Employment Amount')\n",
    "plt.title('Employment Amount of Austin City(2010-2018)', fontsize=12)\n",
    "plt.grid(axis='both', linestyle='-')\n",
    "plt.savefig('Fig1 Employment Amount.png')\n",
    "plt.show()"
   ]
  },
  {
   "cell_type": "code",
   "execution_count": null,
   "metadata": {},
   "outputs": [],
   "source": [
    "x = yearly_df.index\n",
    "y = yearly_df['Employment Rate %']\n",
    "plt.plot(x, y,color='green', marker='o', linewidth=2, markersize=8)\n",
    "\n",
    "plt.xlabel('Year')\n",
    "plt.ylabel('Employment Rate (%)')\n",
    "plt.title('Employment Rate of Austin City(2010-2018)', fontsize=12)\n",
    "plt.ylim(80, max(y) + 10)\n",
    "plt.grid(axis='both', linestyle='-')\n",
    "plt.savefig('Fig2 Employment Rate.png')\n",
    "plt.show()"
   ]
  },
  {
   "cell_type": "code",
   "execution_count": null,
   "metadata": {
    "scrolled": true
   },
   "outputs": [],
   "source": [
    "monthly_df = new_df[new_df.Month!='Annual']\n",
    "monthly_df"
   ]
  },
  {
   "cell_type": "code",
   "execution_count": null,
   "metadata": {},
   "outputs": [],
   "source": [
    "monthly_employment_df = pd.pivot_table(monthly_df, \n",
    "                            index='Year',\n",
    "                            columns='Month', \n",
    "                            values='Employment')\n",
    "monthly_employment_df = monthly_employment_df[['Jan','Feb','Mar','Apr','May','Jun','Jul','Aug','Sep','Oct','Nov','Dec']]\n",
    "monthly_employment_df"
   ]
  },
  {
   "cell_type": "code",
   "execution_count": null,
   "metadata": {},
   "outputs": [],
   "source": [
    "colors = ['red', 'blue', 'green', 'orange','cyan', 'magenta', 'yellow', 'black', 'grey','brown','silver', 'purple']\n",
    "markers = ['^', 'o', 's', '*', '8', 'p', 'X', 'D', 'x', 'h', '+', '|']\n",
    "\n",
    "x = monthly_employment_df.index \n",
    "for column, i in zip(monthly_employment_df.columns, range(len(monthly_employment_df.columns))):\n",
    "    y = monthly_employment_df[column]\n",
    "    plt.errorbar(x, y, yerr=3, elinewidth=0.8, \n",
    "                 color=colors[i], marker=markers[i], \n",
    "                 linestyle=':', linewidth=1,\n",
    "                 errorevery=1, label=column)\n",
    "    \n",
    "plt.xlabel('Year')\n",
    "plt.ylabel('Employment')\n",
    "plt.title('Monthly Employment Amount(2010-2018)', fontsize=12)\n",
    "plt.legend(loc='lower right')\n",
    "plt.ylim(400000, max(y) + 10000)\n",
    "plt.grid(axis='y', linestyle='-')\n",
    "plt.figure(figsize=(15,9))\n",
    "plt.savefig('Fig3 Monthly Employment Amount.png')\n",
    "plt.show()"
   ]
  },
  {
   "cell_type": "code",
   "execution_count": null,
   "metadata": {},
   "outputs": [],
   "source": [
    "monthly_employment_rate_df = pd.pivot_table(monthly_df, \n",
    "                            index='Year',\n",
    "                            columns='Month', \n",
    "                            values='Employment Rate %')\n",
    "monthly_employment_rate_df = monthly_employment_rate_df[['Jan','Feb','Mar','Apr','May','Jun','Jul','Aug','Sep','Oct','Nov','Dec']]\n",
    "monthly_employment_rate_df"
   ]
  },
  {
   "cell_type": "code",
   "execution_count": null,
   "metadata": {},
   "outputs": [],
   "source": [
    "colors = ['red', 'blue', 'green', 'orange','cyan', 'magenta', 'yellow', 'black', 'grey','brown','silver', 'purple']\n",
    "markers = ['^', 'o', 's', '*', '8', 'p', 'X', 'D', 'x', 'h', '+', ',']\n",
    "\n",
    "x = monthly_employment_rate_df.index \n",
    "for column, i in zip(monthly_employment_rate_df.columns, range(len(monthly_employment_rate_df.columns))):\n",
    "    y = monthly_employment_rate_df[column]\n",
    "    plt.errorbar(x, y, yerr=0.5, elinewidth=0.8, \n",
    "                 color=colors[i], marker=markers[i], \n",
    "                 linestyle=':', linewidth=1,\n",
    "                 errorevery=1, label=column)\n",
    "    \n",
    "plt.xlabel('Year')\n",
    "plt.ylabel('Employment Rate %')\n",
    "plt.title('Monthly Employment Rate(2010-2018)', fontsize=12)\n",
    "plt.legend(loc='lower right')\n",
    "plt.ylim(90, max(y) + 2.5)\n",
    "plt.grid(axis='y', linestyle='-')\n",
    "plt.figure(figsize=(15,9))\n",
    "plt.savefig('Fig4 Monthly Employment Rate.png')\n",
    "plt.show()"
   ]
  },
  {
   "cell_type": "code",
   "execution_count": null,
   "metadata": {},
   "outputs": [],
   "source": [
    "monthly_df"
   ]
  },
  {
   "cell_type": "code",
   "execution_count": null,
   "metadata": {},
   "outputs": [],
   "source": [
    "monthly_df['Year-Month'] = monthly_df['Year'] + '-' + monthly_df['Month']\n",
    "monthly_df"
   ]
  },
  {
   "cell_type": "code",
   "execution_count": null,
   "metadata": {
    "scrolled": true
   },
   "outputs": [],
   "source": [
    "x = monthly_df['Year-Month']\n",
    "y = monthly_df[\"Employment\"]\n",
    "plt.plot(x, y,color='red', marker='o', linewidth=2, markersize=8)\n",
    "\n",
    "plt.xlabel('Year-Month')\n",
    "plt.ylabel('Employment Amount')\n",
    "plt.title('Employment Statistics of Austin City(2010-2018)', fontsize=12)\n",
    "plt.grid(axis='both', linestyle='-')\n",
    "plt.figure(figsize=(15,9))\n",
    "plt.savefig('Fig5 Employment Statistics.png')\n",
    "plt.show()"
   ]
  },
  {
   "cell_type": "code",
   "execution_count": null,
   "metadata": {},
   "outputs": [],
   "source": [
    "def df(year):\n",
    "    filename = 'All Industries Employment ' + str(year) + '.csv'\n",
    "    path = os.path.join('Data', filename)\n",
    "    df = pd.read_csv(path)\n",
    "    df"
   ]
  },
  {
   "cell_type": "code",
   "execution_count": null,
   "metadata": {},
   "outputs": [],
   "source": [
    "path2010 = os.path.join('Data', 'All Industries Employment 2010.csv')\n",
    "df_2010 = pd.read_csv(path2010)\n",
    "\n",
    "df_2010 = df_2010[df_2010.Area=='Travis County, Texas']\n",
    "df_2010 = df_2010[df_2010.Industry != 'Total, all industries']\n",
    "df_2010 = df_2010[['Industry','Annual Average Employment']]\n",
    "cleaned_df_2010 = df_2010.reset_index(drop=True)\n",
    "cleaned_df_2010"
   ]
  },
  {
   "cell_type": "code",
   "execution_count": null,
   "metadata": {},
   "outputs": [],
   "source": [
    "path2010 = os.path.join('Data', 'All Industries Employment 2010.csv')\n",
    "df_2010 = pd.read_csv(path2010)\n",
    "df_2010\n",
    "\n",
    "path2011 = os.path.join('Data', 'All Industries Employment 2011.csv')\n",
    "df_2011 = pd.read_csv(path2011)\n",
    "df_2011\n",
    "\n",
    "path2012 = os.path.join('Data', 'All Industries Employment 2012.csv')\n",
    "df_2012 = pd.read_csv(path2012)\n",
    "df_2012\n",
    "\n",
    "path2013 = os.path.join('Data', 'All Industries Employment 2013.csv')\n",
    "df_2013 = pd.read_csv(path2013)\n",
    "df_2013\n",
    "\n",
    "path2014 = os.path.join('Data', 'All Industries Employment 2014.csv')\n",
    "df_2014 = pd.read_csv(path2014)\n",
    "df_2014\n",
    "\n",
    "path2015 = os.path.join('Data', 'All Industries Employment 2015.csv')\n",
    "df_2015 = pd.read_csv(path2015)\n",
    "df_2015\n",
    "\n",
    "path2016 = os.path.join('Data', 'All Industries Employment 2016.csv')\n",
    "df_2016 = pd.read_csv(path2016)\n",
    "df_2016\n",
    "\n",
    "path2017 = os.path.join('Data', 'All Industries Employment 2017.csv')\n",
    "df_2017 = pd.read_csv(path2017)\n",
    "df_2017\n",
    "\n",
    "path2018 = os.path.join('Data', 'All Industries Employment 2018.csv')\n",
    "df_2018 = pd.read_csv(path2018)\n",
    "df_2018\n"
   ]
  }
 ],
 "metadata": {
  "kernelspec": {
   "display_name": "project_1",
   "language": "python",
   "name": "project_1"
  },
  "language_info": {
   "codemirror_mode": {
    "name": "ipython",
    "version": 3
   },
   "file_extension": ".py",
   "mimetype": "text/x-python",
   "name": "python",
   "nbconvert_exporter": "python",
   "pygments_lexer": "ipython3",
   "version": "3.7.5"
  }
 },
 "nbformat": 4,
 "nbformat_minor": 4
}
